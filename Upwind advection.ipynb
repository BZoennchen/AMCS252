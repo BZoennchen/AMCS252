{
 "metadata": {
  "name": "",
  "signature": "sha256:c191337c678415e9640d305ef2b48877ac7f71a3e22b5da986cfeaa4ba58cc5f"
 },
 "nbformat": 3,
 "nbformat_minor": 0,
 "worksheets": [
  {
   "cells": [
    {
     "cell_type": "code",
     "collapsed": false,
     "input": [
      "import numpy as np\n",
      "import matplotlib.pyplot as plt\n",
      "from matplotlib import animation\n",
      "from clawpack.visclaw.JSAnimation import IPython_display\n",
      "%matplotlib inline"
     ],
     "language": "python",
     "metadata": {},
     "outputs": [],
     "prompt_number": 15
    },
    {
     "cell_type": "code",
     "collapsed": false,
     "input": [
      "#Set up grid\n",
      "N=100; dx=1./N;\n",
      "x=np.linspace(0.,1.,N+1)\n",
      "cflnum=1.25;\n",
      "dt=cflnum*dx;\n",
      "t=0.; T=5.0; # Initial and final time\n",
      "\n",
      "#Initial condition:\n",
      "q0 = np.exp(-200*(x-0.3)**2)   # Smooth\n",
      "#q0 = 1.0*(x>0.7)*(x<0.9)        # Discontinuous\n",
      "\n",
      "q=q0.copy();\n",
      "Q = [q[1:-1].copy()]\n",
      "\n",
      "while t<T:\n",
      "\n",
      "    if dt>T-t: dt=T-t\n",
      "\n",
      "    q[1:] = q[1:] - dt/dx * (q[1:]-q[:-1])\n",
      "\n",
      "    # Periodic BCs:\n",
      "    #q[0]  = q[-1] \n",
      "    \n",
      "    t=t+dt\n",
      "    Q.append(q[1:-1].copy())"
     ],
     "language": "python",
     "metadata": {},
     "outputs": [],
     "prompt_number": 49
    },
    {
     "cell_type": "code",
     "collapsed": false,
     "input": [
      "fig = plt.figure()\n",
      "ax = plt.axes(xlim=(0, 1), ylim=(-0.2,2))\n",
      "line1, = ax.plot([],[],'-b',lw=2)\n",
      "skip = 4\n",
      "def fplot(i):\n",
      "    line1.set_data(x[1:-1],Q[i*skip])\n",
      "    return line1, \n",
      "\n",
      "animation.FuncAnimation(fig, fplot, frames=range(len(Q)/skip))"
     ],
     "language": "python",
     "metadata": {},
     "outputs": []
    }
   ],
   "metadata": {}
  }
 ]
}