{
 "metadata": {
  "name": "Exercise_2"
 },
 "nbformat": 3,
 "nbformat_minor": 0,
 "worksheets": [
  {
   "cells": [
    {
     "cell_type": "code",
     "collapsed": false,
     "input": "%pylab inline\nimport matplotlib.pyplot as plt\nimport numpy as np",
     "language": "python",
     "metadata": {},
     "outputs": []
    },
    {
     "cell_type": "code",
     "collapsed": false,
     "input": "R = 0.2    # Drag coefficient\n\ndef Euler(U,k,f):\n    \"The explicit Euler method\"\n    return U + k*f(U)\n\ndef phugoid(U):\n    \"Evaluate the right-hand side of the Phugoid model\"\n    v     = U[0]\n    theta = U[1]\n    x     = U[2]\n    y     = U[3]\n    \n    dU = np.zeros(4)\n    dU[0] = - np.sin(theta) - R * v**2\n    dU[1] = v - np.cos(theta)/v\n    dU[2] = v*np.cos(theta)\n    dU[3] = v*np.sin(theta)\n    \n    return dU\n\n\nT=10    # Final time\nk=0.1   # Step size\nt=np.arange(0,T,k)  # Grid\nU=np.zeros( (len(t),4) )  # Storage for the solution\n\nv0 = 3.1       # Initial velocity\ntheta0 = 0.1   # Initial angle\nU[0] = np.array([v0, theta0, 0., 1.])\n\nfor n in range(len(t)-1):\n    U[n+1]=Euler(U[n],k,phugoid)\n    \nv = U[:,0]\ntheta = U[:,1]\nx = U[:,2]\ny = U[:,3]",
     "language": "python",
     "metadata": {},
     "outputs": []
    },
    {
     "cell_type": "code",
     "collapsed": false,
     "input": "plt.plot(x,y)",
     "language": "python",
     "metadata": {},
     "outputs": []
    },
    {
     "cell_type": "code",
     "collapsed": false,
     "input": "# Examine the behavior near an equilibrium point\nT=10\n\nk=0.01\nt=np.arange(0,T,k)\nU=np.zeros( (len(t),4) )\nv0 = (R**2 + 1.)**(-1./4) + 0.1\ntheta0 = np.arctan(-R)\nU[0] = np.array([v0, theta0, 0., 1.])\n\nfor n in range(len(t)-1):\n    U[n+1]=Euler(U[n],k,phugoid)\n    \nv = U[:,0]\ntheta = U[:,1]\nx = U[:,2]\ny = U[:,3]",
     "language": "python",
     "metadata": {},
     "outputs": []
    },
    {
     "cell_type": "code",
     "collapsed": false,
     "input": "plt.plot(x,y)",
     "language": "python",
     "metadata": {},
     "outputs": []
    },
    {
     "cell_type": "code",
     "collapsed": false,
     "input": "plt.plot(v,theta)",
     "language": "python",
     "metadata": {},
     "outputs": []
    },
    {
     "cell_type": "code",
     "collapsed": false,
     "input": "#Set up a grid in the phase plane (v,theta)\nthet = np.linspace(-np.pi,2*np.pi)\nvv   = np.linspace(0.1,3)\nV,T = np.meshgrid(vv,thet)\n\n#Compute the phase field\ndv = - np.sin(T) - R * V**2\ndt = V - np.cos(T)/V",
     "language": "python",
     "metadata": {},
     "outputs": []
    },
    {
     "cell_type": "code",
     "collapsed": false,
     "input": "skip=2\nplt.quiver(V[::skip,::skip],T[::skip,::skip],dv[::skip,::skip],dt[::skip,::skip], units='inches')",
     "language": "python",
     "metadata": {},
     "outputs": []
    }
   ],
   "metadata": {}
  }
 ]
}