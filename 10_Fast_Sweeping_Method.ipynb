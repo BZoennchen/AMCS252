{
 "metadata": {
  "name": "",
  "signature": "sha256:076c15843d4ffd21331bda4138a725a4fd372bc8a007e6a1cbbdc498788124b0"
 },
 "nbformat": 3,
 "nbformat_minor": 0,
 "worksheets": [
  {
   "cells": [
    {
     "cell_type": "markdown",
     "metadata": {},
     "source": [
      "# The Eikonal equation"
     ]
    },
    {
     "cell_type": "markdown",
     "metadata": {},
     "source": [
      "The Eikonal equation describes the propagation of phase of a high-frequency wave packet.  Consider the wave equation\n",
      "$$u_{tt} = v(x)^2 \\nabla^2 u$$\n",
      "where $v(x)$ is the velocity.  Let $v(x) = 1/n(x)$; $n(x)$ is referred to as the refractive index or *slowness*.  Then\n",
      "$$n^2 u_{tt} = \\nabla^2 u.$$\n",
      "Now suppose that $u$ consists of a slowly varying envelope function $A(x)$ and a rapidly oscillating phase:\n",
      "$$u(x,t) = A(x) \\exp(i(t-\\phi(x))/\\epsilon)$$\n",
      "where $\\epsilon \\ll 1$.\n",
      "Then\n",
      "\\begin{align}\n",
      "u_{tt} & = -\\epsilon^{-2} u \\\\\n",
      "\\nabla u & = (\\nabla A)e^{(i(t-\\phi(x))/\\epsilon)} - i A \\epsilon^{-1}(\\nabla \\phi) e^{(i(t-\\phi(x))/\\epsilon)} \\\\\n",
      "\\nabla \\cdot (\\nabla u) & = (\\nabla^2 A) e^{(i(t-\\phi(x))/\\epsilon)} - 2i\\epsilon^{-1}(\\nabla A) \\cdot (\\nabla \\phi) e^{(i(t-\\phi(x))/\\epsilon)} - i\\epsilon^{-1}(\\nabla^2\\phi)u - \\epsilon^{-2} (\\nabla\\phi)\\cdot(\\nabla\\phi) u\n",
      "\\end{align}\n",
      "Thus the wave equation becomes\n",
      "\\begin{align}\n",
      "-n^2(x) \\epsilon^{-2} u & = (\\nabla^2 A) e^{(i(t-\\phi(x))/\\epsilon)} - 2i\\epsilon^{-1}(\\nabla A) \\cdot (\\nabla \\phi) e^{(i(t-\\phi(x))/\\epsilon)} - i\\epsilon^{-1}(\\nabla^2\\phi)u - \\epsilon^{-2} (\\nabla\\phi)\\cdot(\\nabla\\phi) u\n",
      "\\end{align}\n",
      "Equating the lowest-order ($\\epsilon^{-2}$) terms, we have\n",
      "\\begin{align}\n",
      "-n^2(x) \\epsilon^{-2} u & =  - \\epsilon^{-2} (\\nabla\\phi)\\cdot(\\nabla\\phi) u,\n",
      "\\end{align}\n",
      "or simply \n",
      "$$(\\nabla\\phi)\\cdot(\\nabla\\phi) = n^2(x).$$\n",
      "This is often written as (taking square roots)\n",
      "$$|\\nabla\\phi)| = n(x).$$\n",
      "In the case of spatially uniform wave speed, this is simply\n",
      "$$|\\nabla\\phi| = 1.$$\n",
      "This nonlinear PDE must be accompanied by boundary conditions.  For simplicity, let us consider the homogeneous dirichlet boundary condition $\\phi(x)=0$ for $x \\in \\Gamma$.  Note that $\\Gamma$ is generally a subset of the domain boundary $\\partial \\Omega$ -- it's not necessary to specify boundary conditions everywhere.\n",
      "\n",
      "For the general case, $\\phi(x)$ can be thought of as the time required to reach $x$ from the boundary.  In the case of uniform speed, the solution $\\phi(x)$ is simply the distance from $\\Gamma$ to $x$.  "
     ]
    },
    {
     "cell_type": "markdown",
     "metadata": {},
     "source": [
      "# The Fast Sweeping Method"
     ]
    },
    {
     "cell_type": "markdown",
     "metadata": {},
     "source": [
      "Various numerical methods exist for solving the Eikonal equation.  They fall into two categories:\n",
      "- Transform it to a time-dependent Hamilton-Jacobi equation and march to steady state using, e.g., *level set methods*.  This approach can be relatively expensive, though there exist fast versions.\n",
      "- Solve the boundary value problem directly (e.g., *fast marching* (${\\mathcal O}(N\\log N)$) or *fast sweeping* (${\\mathcal O}(N)$) methods).\n",
      "\n",
      "Here we'll examine the latter approach, using the fast sweeping method.  This method has an advantage in terms of asymptotic complexity: it requires ${\\mathcal O}(N)$ operations to compute the solution on a grid with $N$ points.  It was introduced by H. Zhao in a [2005 Math. of Comp. paper](http://www.ams.org/journals/mcom/2005-74-250/S0025-5718-04-01678-3/S0025-5718-04-01678-3.pdf)."
     ]
    },
    {
     "cell_type": "markdown",
     "metadata": {},
     "source": [
      "## Description of the algorithm"
     ]
    },
    {
     "cell_type": "markdown",
     "metadata": {},
     "source": [
      "### Notation\n",
      "We'll need to deal with the *minimum neighbor value* in $x$ or $y$:\n",
      "\\begin{align}\n",
      "u_{x \\text{ min}} & = \\min(u_{i-1,j},u_{i+1,j}) \\\\\n",
      "u_{y \\text{ min}} & = \\min(u_{i,j-1},u_{i,j+1}).\n",
      "\\end{align}\n",
      "We'll also use a shorthand for the positive part of a quantity: $(u)^+ = \\max(u,0)$.\n",
      "\n",
      "### Initialization\n",
      "The initial values for points in $\\Gamma$ are set to 0.  These values are not allowed to change during the computation.  Initial values elsewhere are set to a very large number.\n",
      "\n",
      "### Discretization\n",
      "The Eikonal equation is discretized using the following *upwind* scheme:\n",
      "For each grid point $(i,j)$:\n",
      "1. Set $D_x u_{i,j} = (u_{i,j} - u_{x\\text{ min}})^+/h$ and $D_y u_{i,j} = (u_{i,j} - u_{y\\text{ min}})^+/h$.\n",
      "2. Compute the solution $\\bar{u}$ of the quadratic equation $(D_x u_{ij})^2 + (D_y u_{ij})^2 = f_{ij}^2$.\n",
      "3. Set $u_{ij} := \\min(\\bar{u}, u_{ij})$.\n",
      "\n",
      "Notice that step 3 ensures that the solution satisfies *causality*.  In the case of the distance function, this step ensures that the distance computed is the *shortest* distance to $\\Gamma$, rather than the distance to some arbitrary point in $\\Gamma$."
     ]
    },
    {
     "cell_type": "markdown",
     "metadata": {},
     "source": [
      "### Gauss-Seidel sweeps\n",
      "The first time, the discretization is computed for each point on the grid starting from $i=1,j=1$ and increasing.  Then additional sweeps are performed in the other three possible directions: \n",
      "- $i$ decreasing and $j$ increasing;\n",
      "- $i$ decreasing and $j$ decreasing;\n",
      "- $i$ increasing and $j$ decreasing.\n",
      "\n",
      "The use of these different directional sweeps is essential to the success of the method, since each sweep follows characteristics along a different set of directions.  After the initial four sweeps, the process can be repeated until convergence (i.e., until no solution values change anymore).  However, in Zhao's paper it is shown that, after the first 4 directional sweeps, the error doesn't get any smaller -- it is always ${\\mathcal O}(h)$."
     ]
    },
    {
     "cell_type": "markdown",
     "metadata": {},
     "source": [
      "### Solution of the signed quadratic equation\n",
      "Let $a = u_{x \\text{ min}}$ and $b = u_{y \\text{ min}}$. The solution to the equation in step 1 can be divided into two cases:\n",
      "1. If $|a-b|\\ge h f_{ij}$, then $\\bar{u}_{ij} = \\min(a,b) + hf_{ij}$.\n",
      "2. If $|a-b| <  h f_{ij}$, then $\\bar{u}_{ij} = \\frac{a+b+\\sqrt{2 h^2 f_{ij}^2 - (a-b)^2}}{2}$.\n",
      "\n",
      "### Discretization at boundaries\n",
      "For points on the boundary, the formulas above for $u_{x \\text{ min}}$ and $u_{y \\text{ min}}$ may not work because one of the required points would lie outside the grid.  For these points, a one-sided difference is used instead."
     ]
    },
    {
     "cell_type": "markdown",
     "metadata": {},
     "source": [
      "# Implementation\n",
      "Go ahead and implement the method in the cell below.  To test it, just pick one point in the grid to be $\\Gamma$.  You can take $f=1$ to compute the distance function.  To plot the solution, you may want to use matplotlib's `pcolor`, `contour`, or `contourf`.\n",
      "\n",
      "You may find it useful to write the update at a specified point as a separate function.  Then the main program can consist only of the Gauss-Seidel sweeps, with a call to the update function at each grid point."
     ]
    },
    {
     "cell_type": "code",
     "collapsed": false,
     "input": [],
     "language": "python",
     "metadata": {},
     "outputs": []
    },
    {
     "cell_type": "markdown",
     "metadata": {},
     "source": [
      "What's really going on during each sweep?  Try plotting the solution after each of the sweeps to see."
     ]
    },
    {
     "cell_type": "markdown",
     "metadata": {},
     "source": [
      "# Other problems to try\n",
      "It should be easy to apply your code to cases where $f(x)$ is not constant.  For instance, try letting $f$ vary linearly over the domain.  What do you see?  Remember that $f$ represents the reciprocal of velocity, so it should never be zero or negative!  What if $f$ is very large in a small region of the grid?\n",
      "\n",
      "Next, try applying your implementation to a case where $\\Gamma$ is not just a point.  For instance, you could take it to be one or more circles.  Now, the grid points don't lie exactly on the circle, so in the initialization step you need to set values for the grid points that lie nearest the circle."
     ]
    },
    {
     "cell_type": "code",
     "collapsed": false,
     "input": [],
     "language": "python",
     "metadata": {},
     "outputs": []
    }
   ],
   "metadata": {}
  }
 ]
}