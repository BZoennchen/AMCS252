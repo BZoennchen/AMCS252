{
 "metadata": {
  "name": "",
  "signature": "sha256:6fc377acd65486d5ac3e8916e5fd6101ad5633c1d4b6a5a11ebd9b5c4e7a5e5b"
 },
 "nbformat": 3,
 "nbformat_minor": 0,
 "worksheets": [
  {
   "cells": [
    {
     "cell_type": "markdown",
     "metadata": {},
     "source": [
      "# The Eikonal equation"
     ]
    },
    {
     "cell_type": "markdown",
     "metadata": {},
     "source": [
      "The Eikonal equation describes the propagation of phase of a high-frequency wave packet.  Consider the wave equation\n",
      "$$u_{tt} = v(x)^2 \\nabla^2 u$$\n",
      "where $v(x)$ is the velocity.  Let $v(x) = 1/f(x)$; $f(x)$ is referred to as the refractive index or *slowness*.  Then\n",
      "$$f^2 u_{tt} = \\nabla^2 u.$$\n",
      "Now suppose that $u$ consists of a slowly varying envelope function $A(x)$ and a rapidly oscillating phase:\n",
      "$$u(x,t) = A(x) \\exp(i(t-\\phi(x))/\\epsilon)$$\n",
      "where $\\epsilon \\ll 1$.\n",
      "Then\n",
      "\\begin{align}\n",
      "u_{tt} & = -\\epsilon^{-2} u \\\\\n",
      "\\nabla u & = (\\nabla A)e^{(i(t-\\phi(x))/\\epsilon)} - i A \\epsilon^{-1}(\\nabla \\phi) e^{(i(t-\\phi(x))/\\epsilon)} \\\\\n",
      "\\nabla \\cdot (\\nabla u) & = (\\nabla^2 A) e^{(i(t-\\phi(x))/\\epsilon)} - 2i\\epsilon^{-1}(\\nabla A) \\cdot (\\nabla \\phi) e^{(i(t-\\phi(x))/\\epsilon)} - i\\epsilon^{-1}(\\nabla^2\\phi)u - \\epsilon^{-2} (\\nabla\\phi)\\cdot(\\nabla\\phi) u\n",
      "\\end{align}\n",
      "Thus the wave equation becomes\n",
      "\\begin{align}\n",
      "-f^2(x) \\epsilon^{-2} u & = (\\nabla^2 A) e^{(i(t-\\phi(x))/\\epsilon)} - 2i\\epsilon^{-1}(\\nabla A) \\cdot (\\nabla \\phi) e^{(i(t-\\phi(x))/\\epsilon)} - i\\epsilon^{-1}(\\nabla^2\\phi)u - \\epsilon^{-2} (\\nabla\\phi)\\cdot(\\nabla\\phi) u\n",
      "\\end{align}\n",
      "Equating the lowest-order ($\\epsilon^{-2}$) terms, we have\n",
      "\\begin{align}\n",
      "-f^2(x) \\epsilon^{-2} u & =  - \\epsilon^{-2} (\\nabla\\phi)\\cdot(\\nabla\\phi) u,\n",
      "\\end{align}\n",
      "or simply \n",
      "$$(\\nabla\\phi)\\cdot(\\nabla\\phi) = f^2(x).$$\n",
      "This is often written as (taking square roots)\n",
      "$$|\\nabla\\phi)| = f(x).$$\n",
      "In the case of spatially uniform wave speed, this is simply\n",
      "$$|\\nabla\\phi| = 1.$$\n",
      "This nonlinear PDE must be accompanied by boundary conditions.  For simplicity, let us consider the homogeneous dirichlet boundary condition $\\phi(x)=0$ for $x \\in \\Gamma$.  Note that $\\Gamma$ is generally a subset of the domain boundary $\\partial \\Omega$ -- it's not necessary to specify boundary conditions everywhere.\n",
      "\n",
      "For the general case, $\\phi(x)$ can be thought of as the time required to reach $x$ from the boundary.  In the case of uniform speed, the solution $\\phi(x)$ is simply the distance from $\\Gamma$ to $x$.  "
     ]
    },
    {
     "cell_type": "markdown",
     "metadata": {},
     "source": [
      "## Mathematical difficulties\n",
      "In general, the Eikonal equation may not possess a smooth solution, because wavefronts originating from different points may intersect.  Thus solutions are defined in a weak sense, and a notion of viscosity is introduced in order to select a unique weak solution.  This is similar to the theory of nonlinear hyperbolic PDEs, where shock singularities may appear, but in Eikonal equations the solution is generally continuous (but not differentiable)."
     ]
    },
    {
     "cell_type": "markdown",
     "metadata": {},
     "source": [
      "## Applications of the Eikonal equation\n",
      "Eikonal equations arise in many applications, including:\n",
      "- Computer vision\n",
      "- Surface reconstruction\n",
      "- Seismic imaging\n",
      "- Geometric optics"
     ]
    },
    {
     "cell_type": "markdown",
     "metadata": {},
     "source": [
      "# The Fast Sweeping Method"
     ]
    },
    {
     "cell_type": "markdown",
     "metadata": {},
     "source": [
      "Various numerical methods exist for solving the Eikonal equation.  They fall into two categories:\n",
      "- Transform it to a time-dependent Hamilton-Jacobi equation and march to steady state using, e.g., *level set methods*.  This approach can be relatively expensive, though there exist fast versions.\n",
      "- Solve the boundary value problem directly (e.g., by *fast marching* (${\\mathcal O}(N\\log N)$) or *fast sweeping* (${\\mathcal O}(N)$) methods).\n",
      "\n",
      "Here we'll examine the latter approach, using the fast sweeping method.  This method has an advantage in terms of asymptotic complexity: it requires ${\\mathcal O}(N)$ operations to compute the solution on a grid with $N$ points.  It was introduced by H. Zhao in a [2005 Math. of Comp. paper](http://www.ams.org/journals/mcom/2005-74-250/S0025-5718-04-01678-3/S0025-5718-04-01678-3.pdf)."
     ]
    },
    {
     "cell_type": "markdown",
     "metadata": {},
     "source": [
      "## Description of the algorithm"
     ]
    },
    {
     "cell_type": "markdown",
     "metadata": {},
     "source": [
      "### Notation\n",
      "We'll need to deal with the *minimum neighbor value* in $x$ or $y$:\n",
      "\\begin{align}\n",
      "\\phi_{x \\text{ min}} & = \\min(\\phi_{i-1,j},\\phi_{i+1,j}) \\\\\n",
      "\\phi_{y \\text{ min}} & = \\min(\\phi_{i,j-1},\\phi_{i,j+1}).\n",
      "\\end{align}\n",
      "We'll also use a shorthand for the positive part of a quantity: $(u)^+ = \\max(u,0)$.\n",
      "\n",
      "### Initialization\n",
      "The initial values for points in $\\Gamma$ are set to 0.  These values are not allowed to change during the computation.  Initial values elsewhere are set to a very large number.\n",
      "\n",
      "### Discretization\n",
      "The Eikonal equation is a nonlinear boundary value PDE.  In general, to solve such problems we would typically use some kind of Newton method and perform a large linear solve at each iteration.  However, for this particular equation there is a much better way.\n",
      "\n",
      "First we will use an iterative method based on Gauss-Seidel sweeps.  That means that we will march across the grid, updating the solution value at each point.  When updating a given point, we will use new neighbor values for the neighboring points that we have already updated and old neighbor values for the points that we haven't updated yet.\n",
      "\n",
      "The advantage of this approach is that, at each point, we have a quadratic equation for $U_{ij}$, with all the equation coefficients known.  That means that we can use the quadratic formula to obtain an explicit solution and avoid doing Newton iterations.\n",
      "\n",
      "We can ensure that the Gauss-Seidel iteration converges by the following means.  Remember that we are computing, in some metric, the distance to each point on the grid.  Initially, we set the distance at all points (outside of $\\Gamma$) to be infinite, or very large).  At each iteration, we only update the value at a given point if the update would cause it to *decrease*.  Furthermore, we only base the decrease on neighboring points whose distance is shorter than that of the point $(i,j)$.  Essentially, we are looking for the shortest path to each point from $\\Gamma$ using *dynamic programming*.\n",
      "\n",
      "The Eikonal equation is discretized using the following *upwind* scheme:\n",
      "For each grid point $(i,j)$:\n",
      "1. Set $D_x \\phi_{i,j} = (\\phi_{i,j} - \\phi_{x\\text{ min}})^+/h$ and $D_y \\phi_{i,j} = (\\phi_{i,j} - \\phi_{y\\text{ min}})^+/h$.\n",
      "2. Compute the solution $\\bar{\\phi}$ of the quadratic equation $(D_x \\phi_{ij})^2 + (D_y \\phi_{ij})^2 = f_{ij}^2$.\n",
      "3. Set $\\phi_{ij} := \\min(\\bar{\\phi}, \\phi_{ij})$.\n",
      "\n",
      "Notice that step 3 ensures that the solution satisfies *causality*.  In the case of the distance function, this step ensures that the distance computed is the *shortest* distance to $\\Gamma$, rather than the distance to some arbitrary point in $\\Gamma$."
     ]
    },
    {
     "cell_type": "markdown",
     "metadata": {},
     "source": [
      "### Gauss-Seidel sweeps\n",
      "The first time, the discretization is computed for each point on the grid starting from $i=1,j=1$ and increasing.  Then additional sweeps are performed in the other three possible directions: \n",
      "- $i$ decreasing and $j$ increasing;\n",
      "- $i$ decreasing and $j$ decreasing;\n",
      "- $i$ increasing and $j$ decreasing.\n",
      "\n",
      "The use of these different directional sweeps is essential to the success of the method, since each sweep follows characteristics along a different set of directions.  After the initial four sweeps, the process can be repeated until convergence (i.e., until no solution values change anymore).  However, in Zhao's paper it is shown that, after the first 4 directional sweeps, the error doesn't get any smaller -- it is always ${\\mathcal O}(h)$."
     ]
    },
    {
     "cell_type": "markdown",
     "metadata": {},
     "source": [
      "### Solution of the signed quadratic equation\n",
      "Let $a = \\phi_{x \\text{ min}}$ and $b = \\phi_{y \\text{ min}}$. The solution to the equation in step 1 can be divided into two cases:\n",
      "1. If $|a-b|\\ge h f_{ij}$, then $\\bar{\\phi}_{ij} = \\min(a,b) + hf_{ij}$.\n",
      "2. If $|a-b| <  h f_{ij}$, then $\\bar{\\phi}_{ij} = \\frac{a+b+\\sqrt{2 h^2 f_{ij}^2 - (a-b)^2}}{2}$.\n",
      "\n",
      "### Discretization at boundaries\n",
      "For points on the boundary, the formulas above for $\\phi_{x \\text{ min}}$ and $\\phi_{y \\text{ min}}$ may not work because one of the required points would lie outside the grid.  For these points, a one-sided difference is used instead."
     ]
    },
    {
     "cell_type": "markdown",
     "metadata": {},
     "source": [
      "# Implementation\n",
      "Go ahead and implement the method in the cell below.  To test it, just pick one point in the grid to be $\\Gamma$.  You can take $f=1$ to compute the distance function.  To plot the solution, you may want to use matplotlib's `pcolor`, `contour`, or `contourf`.\n",
      "\n",
      "You may find it useful to write the update at a specified point as a separate function.  Then the main program can consist only of the Gauss-Seidel sweeps, with a call to the update function at each grid point."
     ]
    },
    {
     "cell_type": "code",
     "collapsed": false,
     "input": [],
     "language": "python",
     "metadata": {},
     "outputs": []
    },
    {
     "cell_type": "markdown",
     "metadata": {},
     "source": [
      "What's really going on during each sweep?  Try plotting the solution after each of the sweeps to see."
     ]
    },
    {
     "cell_type": "markdown",
     "metadata": {},
     "source": [
      "# Other problems to try\n",
      "It should be easy to apply your code to cases where $f(x)$ is not constant.  For instance, try letting $f$ vary linearly over the domain.  What do you see?  Remember that $f$ represents the reciprocal of velocity, so it should never be zero or negative!  What if $f$ is very large in a small region of the grid?\n",
      "\n",
      "Next, try applying your implementation to a case where $\\Gamma$ is not just a point.  For instance, you could take it to be one or more circles.  Now, the grid points don't lie exactly on the circle, so in the initialization step you need to set values for the grid points that lie nearest the circle."
     ]
    },
    {
     "cell_type": "code",
     "collapsed": false,
     "input": [],
     "language": "python",
     "metadata": {},
     "outputs": []
    }
   ],
   "metadata": {}
  }
 ]
}