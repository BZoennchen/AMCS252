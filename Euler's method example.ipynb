{
 "metadata": {
  "name": ""
 },
 "nbformat": 3,
 "nbformat_minor": 0,
 "worksheets": [
  {
   "cells": [
    {
     "cell_type": "markdown",
     "metadata": {},
     "source": [
      "# Implementation of Euler's method"
     ]
    },
    {
     "cell_type": "markdown",
     "metadata": {},
     "source": [
      "Here's an example showing how to implement Euler's method for the initial value problem\n",
      "$$\n",
      "u'(t) = - u \\ \\ \\ \\ \\ u(0) = 1.\n",
      "$$"
     ]
    },
    {
     "cell_type": "code",
     "collapsed": false,
     "input": [
      "import numpy as np\n",
      "\n",
      "def Euler(u,k,f):\n",
      "    return u + k*f(u)\n",
      "\n",
      "def f(u):\n",
      "    return -u\n",
      "\n",
      "T=10\n",
      "k=0.01\n",
      "t=np.arange(0,T,k)\n",
      "U=np.zeros(len(t))\n",
      "U[0]=1\n",
      "for n in range(len(t)-1):\n",
      "    U[n+1]=Euler(U[n],k,f)"
     ],
     "language": "python",
     "metadata": {},
     "outputs": []
    },
    {
     "cell_type": "markdown",
     "metadata": {},
     "source": [
      "Now let's plot the solution."
     ]
    },
    {
     "cell_type": "code",
     "collapsed": false,
     "input": [
      "%pylab inline\n",
      "import matplotlib.pyplot as plt\n",
      "plt.plot(t,U)"
     ],
     "language": "python",
     "metadata": {},
     "outputs": []
    }
   ],
   "metadata": {}
  }
 ]
}